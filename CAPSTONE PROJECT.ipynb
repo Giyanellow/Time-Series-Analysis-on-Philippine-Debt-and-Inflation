{
 "cells": [
  {
   "cell_type": "markdown",
   "id": "2909b0f5",
   "metadata": {},
   "source": [
    "# A Time-Series Analysis on the Philippines' Inflation Rate from 1960 to 2021\n",
    "## (With the terms' corresponding president)"
   ]
  },
  {
   "cell_type": "markdown",
   "id": "d89d4cba",
   "metadata": {},
   "source": [
    "Von Stephen Carandang\n",
    "Andre Mhiko Carandang\n",
    "Gianello Montenegro\n",
    "Mikaela Raymundo\n",
    "\n",
    "BSECE - T4A\n",
    "\n",
    "Date Submitted\n",
    "\n",
    "Submitted To: Engr. Aisa Mijeno-Labastilla, PCpE"
   ]
  },
  {
   "cell_type": "markdown",
   "id": "4652554b",
   "metadata": {},
   "source": [
    "**Major Assessment 3 / Capstone Assessment**\n",
    "\n",
    "**Training and Evaluation of the Gathered Data**\n",
    "\n",
    "**First Semester SY 2023-2024**"
   ]
  },
  {
   "cell_type": "markdown",
   "id": "4aee929a",
   "metadata": {},
   "source": [
    "**I.\tIntroduction / Problem Statement**\n",
    "• Describe the problem you are trying to give a solution in doing the training and evaluation of the gathered data. State what SDG you are targeting \n",
    "\n",
    "**II.\tReview of Related Literature**\n",
    "• Describe here the technical know-how that you learned and researched related to your problem, \n",
    "\n",
    "**III.\tGathered Data / Dataset**\n",
    "• Describe here your dataset (type, size, repositories, links, etc.)\n",
    "• Link to the shared dataset\n",
    "\"TEMPORARY DATASET: https://fred.stlouisfed.org/series/FPCPITOTLZGPHL\"\n",
    "\n",
    "**IV. Objectives**\n",
    "• State here the main objective and the specific objectives to achieve the main objective\n",
    "\n",
    "**V. Conceptual**\n",
    "• Describe here how you will manipulate your data to achieve the main objective of training and evaluating the gathered data\n",
    "\n",
    "**VI. Data and Results**\n",
    "• Discuss here the results of each conducted training and evaluation\n",
    "\n",
    "**VII. Conclusion**\n",
    "• Must be parallel with the objectives\n",
    "\n",
    "**VIII. Share your thoughts individually and overall feedback after completing this course.** \n",
    "\n",
    "**IX. Program Codes (Jupyter notebook)**\n"
   ]
  },
  {
   "cell_type": "code",
   "execution_count": 2,
   "id": "a0df28b1",
   "metadata": {},
   "outputs": [],
   "source": [
    "import pandas as pd\n",
    "import numpy as np\n",
    "import matplotlib.pyplot as plt\n",
    "import seaborn as sns\n",
    "import os\n",
    "import warnings\n",
    "import sklearn\n",
    "warnings.filterwarnings('ignore')\n",
    "\n",
    "%matplotlib inline"
   ]
  },
  {
   "cell_type": "code",
   "execution_count": 3,
   "id": "63235bf6",
   "metadata": {},
   "outputs": [
    {
     "data": {
      "text/plain": [
       "<bound method DataFrame.info of           DATE  FPCPITOTLZGPHL\n",
       "0   1960-01-01        4.154822\n",
       "1   1961-01-01        1.595633\n",
       "2   1962-01-01        5.796652\n",
       "3   1963-01-01        5.625549\n",
       "4   1964-01-01        8.183079\n",
       "..         ...             ...\n",
       "58  2018-01-01        5.309347\n",
       "59  2019-01-01        2.392065\n",
       "60  2020-01-01        2.393162\n",
       "61  2021-01-01        3.927180\n",
       "62  2022-01-01        5.821158\n",
       "\n",
       "[63 rows x 2 columns]>"
      ]
     },
     "execution_count": 3,
     "metadata": {},
     "output_type": "execute_result"
    }
   ],
   "source": [
    "df_inflation = pd.read_csv('Philippine_Inflation.csv')\n",
    "df_inflation.info"
   ]
  },
  {
   "cell_type": "code",
   "execution_count": 4,
   "id": "5a0272ce",
   "metadata": {},
   "outputs": [
    {
     "data": {
      "text/plain": [
       "<bound method DataFrame.info of     Date         Value\n",
       "0   1960           NaN\n",
       "1   1961           NaN\n",
       "2   1962           NaN\n",
       "3   1963           NaN\n",
       "4   1964           NaN\n",
       "..   ...           ...\n",
       "59  2019  8.362534e+10\n",
       "60  2020  9.849369e+10\n",
       "61  2021  1.064280e+11\n",
       "62  2022           NaN\n",
       "63  2023           NaN\n",
       "\n",
       "[64 rows x 2 columns]>"
      ]
     },
     "execution_count": 4,
     "metadata": {},
     "output_type": "execute_result"
    }
   ],
   "source": [
    "df_debt = pd.read_csv('Debt data\\Philippines, External debt stocks, total (DOD, current US$).csv')\n",
    "df_debt.info"
   ]
  },
  {
   "cell_type": "code",
   "execution_count": 5,
   "metadata": {},
   "outputs": [
    {
     "data": {
      "text/plain": [
       "DATE              0\n",
       "FPCPITOTLZGPHL    0\n",
       "dtype: int64"
      ]
     },
     "execution_count": 5,
     "metadata": {},
     "output_type": "execute_result"
    }
   ],
   "source": [
    "df_inflation.isnull().sum()"
   ]
  },
  {
   "cell_type": "code",
   "execution_count": 6,
   "id": "15b891ef",
   "metadata": {},
   "outputs": [
    {
     "data": {
      "text/plain": [
       "Date      0\n",
       "Value    12\n",
       "dtype: int64"
      ]
     },
     "execution_count": 6,
     "metadata": {},
     "output_type": "execute_result"
    }
   ],
   "source": [
    "df_debt.isnull().sum()"
   ]
  },
  {
   "cell_type": "code",
   "execution_count": 7,
   "id": "aea679a4",
   "metadata": {},
   "outputs": [
    {
     "data": {
      "text/html": [
       "<div>\n",
       "<style scoped>\n",
       "    .dataframe tbody tr th:only-of-type {\n",
       "        vertical-align: middle;\n",
       "    }\n",
       "\n",
       "    .dataframe tbody tr th {\n",
       "        vertical-align: top;\n",
       "    }\n",
       "\n",
       "    .dataframe thead th {\n",
       "        text-align: right;\n",
       "    }\n",
       "</style>\n",
       "<table border=\"1\" class=\"dataframe\">\n",
       "  <thead>\n",
       "    <tr style=\"text-align: right;\">\n",
       "      <th></th>\n",
       "      <th>Date</th>\n",
       "      <th>Value</th>\n",
       "    </tr>\n",
       "  </thead>\n",
       "  <tbody>\n",
       "    <tr>\n",
       "      <th>0</th>\n",
       "      <td>1960</td>\n",
       "      <td>0.0</td>\n",
       "    </tr>\n",
       "    <tr>\n",
       "      <th>1</th>\n",
       "      <td>1961</td>\n",
       "      <td>0.0</td>\n",
       "    </tr>\n",
       "    <tr>\n",
       "      <th>2</th>\n",
       "      <td>1962</td>\n",
       "      <td>0.0</td>\n",
       "    </tr>\n",
       "    <tr>\n",
       "      <th>3</th>\n",
       "      <td>1963</td>\n",
       "      <td>0.0</td>\n",
       "    </tr>\n",
       "    <tr>\n",
       "      <th>4</th>\n",
       "      <td>1964</td>\n",
       "      <td>0.0</td>\n",
       "    </tr>\n",
       "  </tbody>\n",
       "</table>\n",
       "</div>"
      ],
      "text/plain": [
       "   Date  Value\n",
       "0  1960    0.0\n",
       "1  1961    0.0\n",
       "2  1962    0.0\n",
       "3  1963    0.0\n",
       "4  1964    0.0"
      ]
     },
     "execution_count": 7,
     "metadata": {},
     "output_type": "execute_result"
    }
   ],
   "source": [
    "df_debt = df_debt.fillna(0)\n",
    "df_debt.head()"
   ]
  },
  {
   "cell_type": "code",
   "execution_count": 8,
   "id": "d0b1dceb",
   "metadata": {},
   "outputs": [
    {
     "data": {
      "text/html": [
       "<div>\n",
       "<style scoped>\n",
       "    .dataframe tbody tr th:only-of-type {\n",
       "        vertical-align: middle;\n",
       "    }\n",
       "\n",
       "    .dataframe tbody tr th {\n",
       "        vertical-align: top;\n",
       "    }\n",
       "\n",
       "    .dataframe thead th {\n",
       "        text-align: right;\n",
       "    }\n",
       "</style>\n",
       "<table border=\"1\" class=\"dataframe\">\n",
       "  <thead>\n",
       "    <tr style=\"text-align: right;\">\n",
       "      <th></th>\n",
       "      <th>Date</th>\n",
       "      <th>Debt</th>\n",
       "    </tr>\n",
       "  </thead>\n",
       "  <tbody>\n",
       "    <tr>\n",
       "      <th>0</th>\n",
       "      <td>1960</td>\n",
       "      <td>0.0</td>\n",
       "    </tr>\n",
       "    <tr>\n",
       "      <th>1</th>\n",
       "      <td>1961</td>\n",
       "      <td>0.0</td>\n",
       "    </tr>\n",
       "    <tr>\n",
       "      <th>2</th>\n",
       "      <td>1962</td>\n",
       "      <td>0.0</td>\n",
       "    </tr>\n",
       "    <tr>\n",
       "      <th>3</th>\n",
       "      <td>1963</td>\n",
       "      <td>0.0</td>\n",
       "    </tr>\n",
       "    <tr>\n",
       "      <th>4</th>\n",
       "      <td>1964</td>\n",
       "      <td>0.0</td>\n",
       "    </tr>\n",
       "  </tbody>\n",
       "</table>\n",
       "</div>"
      ],
      "text/plain": [
       "   Date  Debt\n",
       "0  1960   0.0\n",
       "1  1961   0.0\n",
       "2  1962   0.0\n",
       "3  1963   0.0\n",
       "4  1964   0.0"
      ]
     },
     "execution_count": 8,
     "metadata": {},
     "output_type": "execute_result"
    }
   ],
   "source": [
    "df_debt.rename(columns={'Value' : 'Debt'}, inplace=True)\n",
    "df_debt.head()"
   ]
  },
  {
   "cell_type": "code",
   "execution_count": 9,
   "id": "259171f7",
   "metadata": {},
   "outputs": [
    {
     "data": {
      "text/html": [
       "<div>\n",
       "<style scoped>\n",
       "    .dataframe tbody tr th:only-of-type {\n",
       "        vertical-align: middle;\n",
       "    }\n",
       "\n",
       "    .dataframe tbody tr th {\n",
       "        vertical-align: top;\n",
       "    }\n",
       "\n",
       "    .dataframe thead th {\n",
       "        text-align: right;\n",
       "    }\n",
       "</style>\n",
       "<table border=\"1\" class=\"dataframe\">\n",
       "  <thead>\n",
       "    <tr style=\"text-align: right;\">\n",
       "      <th></th>\n",
       "      <th>Year</th>\n",
       "      <th>Inflation Rate</th>\n",
       "    </tr>\n",
       "  </thead>\n",
       "  <tbody>\n",
       "    <tr>\n",
       "      <th>0</th>\n",
       "      <td>1960-01-01</td>\n",
       "      <td>4.154822</td>\n",
       "    </tr>\n",
       "    <tr>\n",
       "      <th>1</th>\n",
       "      <td>1961-01-01</td>\n",
       "      <td>1.595633</td>\n",
       "    </tr>\n",
       "    <tr>\n",
       "      <th>2</th>\n",
       "      <td>1962-01-01</td>\n",
       "      <td>5.796652</td>\n",
       "    </tr>\n",
       "    <tr>\n",
       "      <th>3</th>\n",
       "      <td>1963-01-01</td>\n",
       "      <td>5.625549</td>\n",
       "    </tr>\n",
       "    <tr>\n",
       "      <th>4</th>\n",
       "      <td>1964-01-01</td>\n",
       "      <td>8.183079</td>\n",
       "    </tr>\n",
       "  </tbody>\n",
       "</table>\n",
       "</div>"
      ],
      "text/plain": [
       "         Year  Inflation Rate\n",
       "0  1960-01-01        4.154822\n",
       "1  1961-01-01        1.595633\n",
       "2  1962-01-01        5.796652\n",
       "3  1963-01-01        5.625549\n",
       "4  1964-01-01        8.183079"
      ]
     },
     "execution_count": 9,
     "metadata": {},
     "output_type": "execute_result"
    }
   ],
   "source": [
    "df_inflation.rename(columns={'DATE': 'Year', 'FPCPITOTLZGPHL': 'Inflation Rate'}, inplace=True)\n",
    "df_inflation.head()"
   ]
  },
  {
   "cell_type": "code",
   "execution_count": 10,
   "id": "07a40b19",
   "metadata": {},
   "outputs": [
    {
     "data": {
      "text/html": [
       "<div>\n",
       "<style scoped>\n",
       "    .dataframe tbody tr th:only-of-type {\n",
       "        vertical-align: middle;\n",
       "    }\n",
       "\n",
       "    .dataframe tbody tr th {\n",
       "        vertical-align: top;\n",
       "    }\n",
       "\n",
       "    .dataframe thead th {\n",
       "        text-align: right;\n",
       "    }\n",
       "</style>\n",
       "<table border=\"1\" class=\"dataframe\">\n",
       "  <thead>\n",
       "    <tr style=\"text-align: right;\">\n",
       "      <th></th>\n",
       "      <th>Year</th>\n",
       "      <th>Inflation Rate</th>\n",
       "    </tr>\n",
       "  </thead>\n",
       "  <tbody>\n",
       "    <tr>\n",
       "      <th>0</th>\n",
       "      <td>1960</td>\n",
       "      <td>4.154822</td>\n",
       "    </tr>\n",
       "    <tr>\n",
       "      <th>1</th>\n",
       "      <td>1961</td>\n",
       "      <td>1.595633</td>\n",
       "    </tr>\n",
       "    <tr>\n",
       "      <th>2</th>\n",
       "      <td>1962</td>\n",
       "      <td>5.796652</td>\n",
       "    </tr>\n",
       "    <tr>\n",
       "      <th>3</th>\n",
       "      <td>1963</td>\n",
       "      <td>5.625549</td>\n",
       "    </tr>\n",
       "    <tr>\n",
       "      <th>4</th>\n",
       "      <td>1964</td>\n",
       "      <td>8.183079</td>\n",
       "    </tr>\n",
       "  </tbody>\n",
       "</table>\n",
       "</div>"
      ],
      "text/plain": [
       "   Year  Inflation Rate\n",
       "0  1960        4.154822\n",
       "1  1961        1.595633\n",
       "2  1962        5.796652\n",
       "3  1963        5.625549\n",
       "4  1964        8.183079"
      ]
     },
     "execution_count": 10,
     "metadata": {},
     "output_type": "execute_result"
    }
   ],
   "source": [
    "df_inflation['Year'] = pd.to_datetime(df_inflation['Year']).dt.year\n",
    "df_inflation.head()"
   ]
  },
  {
   "cell_type": "code",
   "execution_count": 11,
   "id": "e4aa587e",
   "metadata": {},
   "outputs": [
    {
     "data": {
      "text/html": [
       "<div>\n",
       "<style scoped>\n",
       "    .dataframe tbody tr th:only-of-type {\n",
       "        vertical-align: middle;\n",
       "    }\n",
       "\n",
       "    .dataframe tbody tr th {\n",
       "        vertical-align: top;\n",
       "    }\n",
       "\n",
       "    .dataframe thead th {\n",
       "        text-align: right;\n",
       "    }\n",
       "</style>\n",
       "<table border=\"1\" class=\"dataframe\">\n",
       "  <thead>\n",
       "    <tr style=\"text-align: right;\">\n",
       "      <th></th>\n",
       "      <th>Year</th>\n",
       "      <th>Inflation Rate</th>\n",
       "      <th>Debt</th>\n",
       "    </tr>\n",
       "  </thead>\n",
       "  <tbody>\n",
       "    <tr>\n",
       "      <th>0</th>\n",
       "      <td>1960</td>\n",
       "      <td>4.154822</td>\n",
       "      <td>0.000000e+00</td>\n",
       "    </tr>\n",
       "    <tr>\n",
       "      <th>1</th>\n",
       "      <td>1961</td>\n",
       "      <td>1.595633</td>\n",
       "      <td>0.000000e+00</td>\n",
       "    </tr>\n",
       "    <tr>\n",
       "      <th>2</th>\n",
       "      <td>1962</td>\n",
       "      <td>5.796652</td>\n",
       "      <td>0.000000e+00</td>\n",
       "    </tr>\n",
       "    <tr>\n",
       "      <th>3</th>\n",
       "      <td>1963</td>\n",
       "      <td>5.625549</td>\n",
       "      <td>0.000000e+00</td>\n",
       "    </tr>\n",
       "    <tr>\n",
       "      <th>4</th>\n",
       "      <td>1964</td>\n",
       "      <td>8.183079</td>\n",
       "      <td>0.000000e+00</td>\n",
       "    </tr>\n",
       "    <tr>\n",
       "      <th>...</th>\n",
       "      <td>...</td>\n",
       "      <td>...</td>\n",
       "      <td>...</td>\n",
       "    </tr>\n",
       "    <tr>\n",
       "      <th>58</th>\n",
       "      <td>2018</td>\n",
       "      <td>5.309347</td>\n",
       "      <td>7.896729e+10</td>\n",
       "    </tr>\n",
       "    <tr>\n",
       "      <th>59</th>\n",
       "      <td>2019</td>\n",
       "      <td>2.392065</td>\n",
       "      <td>8.362534e+10</td>\n",
       "    </tr>\n",
       "    <tr>\n",
       "      <th>60</th>\n",
       "      <td>2020</td>\n",
       "      <td>2.393162</td>\n",
       "      <td>9.849369e+10</td>\n",
       "    </tr>\n",
       "    <tr>\n",
       "      <th>61</th>\n",
       "      <td>2021</td>\n",
       "      <td>3.927180</td>\n",
       "      <td>1.064280e+11</td>\n",
       "    </tr>\n",
       "    <tr>\n",
       "      <th>62</th>\n",
       "      <td>2022</td>\n",
       "      <td>5.821158</td>\n",
       "      <td>0.000000e+00</td>\n",
       "    </tr>\n",
       "  </tbody>\n",
       "</table>\n",
       "<p>63 rows × 3 columns</p>\n",
       "</div>"
      ],
      "text/plain": [
       "    Year  Inflation Rate          Debt\n",
       "0   1960        4.154822  0.000000e+00\n",
       "1   1961        1.595633  0.000000e+00\n",
       "2   1962        5.796652  0.000000e+00\n",
       "3   1963        5.625549  0.000000e+00\n",
       "4   1964        8.183079  0.000000e+00\n",
       "..   ...             ...           ...\n",
       "58  2018        5.309347  7.896729e+10\n",
       "59  2019        2.392065  8.362534e+10\n",
       "60  2020        2.393162  9.849369e+10\n",
       "61  2021        3.927180  1.064280e+11\n",
       "62  2022        5.821158  0.000000e+00\n",
       "\n",
       "[63 rows x 3 columns]"
      ]
     },
     "execution_count": 11,
     "metadata": {},
     "output_type": "execute_result"
    }
   ],
   "source": [
    "debt_list = df_debt['Debt'].tolist()\n",
    "df_inflation['Debt'] = debt_list[:-1]\n",
    "df_inflation.head(70)"
   ]
  },
  {
   "cell_type": "code",
   "execution_count": 12,
   "id": "15b1c504",
   "metadata": {},
   "outputs": [
    {
     "data": {
      "text/html": [
       "<div>\n",
       "<style scoped>\n",
       "    .dataframe tbody tr th:only-of-type {\n",
       "        vertical-align: middle;\n",
       "    }\n",
       "\n",
       "    .dataframe tbody tr th {\n",
       "        vertical-align: top;\n",
       "    }\n",
       "\n",
       "    .dataframe thead th {\n",
       "        text-align: right;\n",
       "    }\n",
       "</style>\n",
       "<table border=\"1\" class=\"dataframe\">\n",
       "  <thead>\n",
       "    <tr style=\"text-align: right;\">\n",
       "      <th></th>\n",
       "      <th>Year</th>\n",
       "      <th>Inflation Rate</th>\n",
       "      <th>Debt</th>\n",
       "    </tr>\n",
       "  </thead>\n",
       "  <tbody>\n",
       "    <tr>\n",
       "      <th>0</th>\n",
       "      <td>1960</td>\n",
       "      <td>4.154822</td>\n",
       "      <td>0.000000e+00</td>\n",
       "    </tr>\n",
       "    <tr>\n",
       "      <th>1</th>\n",
       "      <td>1961</td>\n",
       "      <td>1.595633</td>\n",
       "      <td>0.000000e+00</td>\n",
       "    </tr>\n",
       "    <tr>\n",
       "      <th>2</th>\n",
       "      <td>1962</td>\n",
       "      <td>5.796652</td>\n",
       "      <td>0.000000e+00</td>\n",
       "    </tr>\n",
       "    <tr>\n",
       "      <th>3</th>\n",
       "      <td>1963</td>\n",
       "      <td>5.625549</td>\n",
       "      <td>0.000000e+00</td>\n",
       "    </tr>\n",
       "    <tr>\n",
       "      <th>4</th>\n",
       "      <td>1964</td>\n",
       "      <td>8.183079</td>\n",
       "      <td>0.000000e+00</td>\n",
       "    </tr>\n",
       "    <tr>\n",
       "      <th>...</th>\n",
       "      <td>...</td>\n",
       "      <td>...</td>\n",
       "      <td>...</td>\n",
       "    </tr>\n",
       "    <tr>\n",
       "      <th>57</th>\n",
       "      <td>2017</td>\n",
       "      <td>2.853188</td>\n",
       "      <td>7.310568e+10</td>\n",
       "    </tr>\n",
       "    <tr>\n",
       "      <th>58</th>\n",
       "      <td>2018</td>\n",
       "      <td>5.309347</td>\n",
       "      <td>7.896729e+10</td>\n",
       "    </tr>\n",
       "    <tr>\n",
       "      <th>59</th>\n",
       "      <td>2019</td>\n",
       "      <td>2.392065</td>\n",
       "      <td>8.362534e+10</td>\n",
       "    </tr>\n",
       "    <tr>\n",
       "      <th>60</th>\n",
       "      <td>2020</td>\n",
       "      <td>2.393162</td>\n",
       "      <td>9.849369e+10</td>\n",
       "    </tr>\n",
       "    <tr>\n",
       "      <th>61</th>\n",
       "      <td>2021</td>\n",
       "      <td>3.927180</td>\n",
       "      <td>1.064280e+11</td>\n",
       "    </tr>\n",
       "  </tbody>\n",
       "</table>\n",
       "<p>62 rows × 3 columns</p>\n",
       "</div>"
      ],
      "text/plain": [
       "    Year  Inflation Rate          Debt\n",
       "0   1960        4.154822  0.000000e+00\n",
       "1   1961        1.595633  0.000000e+00\n",
       "2   1962        5.796652  0.000000e+00\n",
       "3   1963        5.625549  0.000000e+00\n",
       "4   1964        8.183079  0.000000e+00\n",
       "..   ...             ...           ...\n",
       "57  2017        2.853188  7.310568e+10\n",
       "58  2018        5.309347  7.896729e+10\n",
       "59  2019        2.392065  8.362534e+10\n",
       "60  2020        2.393162  9.849369e+10\n",
       "61  2021        3.927180  1.064280e+11\n",
       "\n",
       "[62 rows x 3 columns]"
      ]
     },
     "execution_count": 12,
     "metadata": {},
     "output_type": "execute_result"
    }
   ],
   "source": [
    "df_inflation = df_inflation.drop(df_inflation.index[-1])\n",
    "df_inflation.head(70)"
   ]
  },
  {
   "cell_type": "code",
   "execution_count": 13,
   "id": "b8daedd7",
   "metadata": {},
   "outputs": [
    {
     "data": {
      "text/html": [
       "<div>\n",
       "<style scoped>\n",
       "    .dataframe tbody tr th:only-of-type {\n",
       "        vertical-align: middle;\n",
       "    }\n",
       "\n",
       "    .dataframe tbody tr th {\n",
       "        vertical-align: top;\n",
       "    }\n",
       "\n",
       "    .dataframe thead th {\n",
       "        text-align: right;\n",
       "    }\n",
       "</style>\n",
       "<table border=\"1\" class=\"dataframe\">\n",
       "  <thead>\n",
       "    <tr style=\"text-align: right;\">\n",
       "      <th></th>\n",
       "      <th>Year</th>\n",
       "      <th>Inflation Rate</th>\n",
       "      <th>Debt</th>\n",
       "    </tr>\n",
       "  </thead>\n",
       "  <tbody>\n",
       "    <tr>\n",
       "      <th>0</th>\n",
       "      <td>1960</td>\n",
       "      <td>4.15</td>\n",
       "      <td>0.00</td>\n",
       "    </tr>\n",
       "    <tr>\n",
       "      <th>1</th>\n",
       "      <td>1961</td>\n",
       "      <td>1.60</td>\n",
       "      <td>0.00</td>\n",
       "    </tr>\n",
       "    <tr>\n",
       "      <th>2</th>\n",
       "      <td>1962</td>\n",
       "      <td>5.80</td>\n",
       "      <td>0.00</td>\n",
       "    </tr>\n",
       "    <tr>\n",
       "      <th>3</th>\n",
       "      <td>1963</td>\n",
       "      <td>5.63</td>\n",
       "      <td>0.00</td>\n",
       "    </tr>\n",
       "    <tr>\n",
       "      <th>4</th>\n",
       "      <td>1964</td>\n",
       "      <td>8.18</td>\n",
       "      <td>0.00</td>\n",
       "    </tr>\n",
       "    <tr>\n",
       "      <th>...</th>\n",
       "      <td>...</td>\n",
       "      <td>...</td>\n",
       "      <td>...</td>\n",
       "    </tr>\n",
       "    <tr>\n",
       "      <th>57</th>\n",
       "      <td>2017</td>\n",
       "      <td>2.85</td>\n",
       "      <td>73105675383.00</td>\n",
       "    </tr>\n",
       "    <tr>\n",
       "      <th>58</th>\n",
       "      <td>2018</td>\n",
       "      <td>5.31</td>\n",
       "      <td>78967285430.00</td>\n",
       "    </tr>\n",
       "    <tr>\n",
       "      <th>59</th>\n",
       "      <td>2019</td>\n",
       "      <td>2.39</td>\n",
       "      <td>83625343901.00</td>\n",
       "    </tr>\n",
       "    <tr>\n",
       "      <th>60</th>\n",
       "      <td>2020</td>\n",
       "      <td>2.39</td>\n",
       "      <td>98493687903.00</td>\n",
       "    </tr>\n",
       "    <tr>\n",
       "      <th>61</th>\n",
       "      <td>2021</td>\n",
       "      <td>3.93</td>\n",
       "      <td>106428000000.00</td>\n",
       "    </tr>\n",
       "  </tbody>\n",
       "</table>\n",
       "<p>62 rows × 3 columns</p>\n",
       "</div>"
      ],
      "text/plain": [
       "    Year  Inflation Rate            Debt\n",
       "0   1960            4.15            0.00\n",
       "1   1961            1.60            0.00\n",
       "2   1962            5.80            0.00\n",
       "3   1963            5.63            0.00\n",
       "4   1964            8.18            0.00\n",
       "..   ...             ...             ...\n",
       "57  2017            2.85  73105675383.00\n",
       "58  2018            5.31  78967285430.00\n",
       "59  2019            2.39  83625343901.00\n",
       "60  2020            2.39  98493687903.00\n",
       "61  2021            3.93 106428000000.00\n",
       "\n",
       "[62 rows x 3 columns]"
      ]
     },
     "execution_count": 13,
     "metadata": {},
     "output_type": "execute_result"
    }
   ],
   "source": [
    "df_inflation['Debt'] = df_inflation['Debt'].astype(float)\n",
    "pd.options.display.float_format = '{:.2f}'.format\n",
    "df_inflation.head(70)"
   ]
  },
  {
   "cell_type": "code",
   "execution_count": 14,
   "id": "a580c4ca",
   "metadata": {},
   "outputs": [
    {
     "data": {
      "text/html": [
       "<div>\n",
       "<style scoped>\n",
       "    .dataframe tbody tr th:only-of-type {\n",
       "        vertical-align: middle;\n",
       "    }\n",
       "\n",
       "    .dataframe tbody tr th {\n",
       "        vertical-align: top;\n",
       "    }\n",
       "\n",
       "    .dataframe thead th {\n",
       "        text-align: right;\n",
       "    }\n",
       "</style>\n",
       "<table border=\"1\" class=\"dataframe\">\n",
       "  <thead>\n",
       "    <tr style=\"text-align: right;\">\n",
       "      <th></th>\n",
       "      <th>Year</th>\n",
       "      <th>Inflation Rate</th>\n",
       "      <th>Debt</th>\n",
       "    </tr>\n",
       "  </thead>\n",
       "  <tbody>\n",
       "    <tr>\n",
       "      <th>0</th>\n",
       "      <td>1960</td>\n",
       "      <td>4.15</td>\n",
       "      <td>0.00</td>\n",
       "    </tr>\n",
       "    <tr>\n",
       "      <th>1</th>\n",
       "      <td>1961</td>\n",
       "      <td>1.60</td>\n",
       "      <td>0.00</td>\n",
       "    </tr>\n",
       "    <tr>\n",
       "      <th>2</th>\n",
       "      <td>1962</td>\n",
       "      <td>5.80</td>\n",
       "      <td>0.00</td>\n",
       "    </tr>\n",
       "    <tr>\n",
       "      <th>3</th>\n",
       "      <td>1963</td>\n",
       "      <td>5.63</td>\n",
       "      <td>0.00</td>\n",
       "    </tr>\n",
       "    <tr>\n",
       "      <th>4</th>\n",
       "      <td>1964</td>\n",
       "      <td>8.18</td>\n",
       "      <td>0.00</td>\n",
       "    </tr>\n",
       "    <tr>\n",
       "      <th>...</th>\n",
       "      <td>...</td>\n",
       "      <td>...</td>\n",
       "      <td>...</td>\n",
       "    </tr>\n",
       "    <tr>\n",
       "      <th>57</th>\n",
       "      <td>2017</td>\n",
       "      <td>2.85</td>\n",
       "      <td>73.11</td>\n",
       "    </tr>\n",
       "    <tr>\n",
       "      <th>58</th>\n",
       "      <td>2018</td>\n",
       "      <td>5.31</td>\n",
       "      <td>78.97</td>\n",
       "    </tr>\n",
       "    <tr>\n",
       "      <th>59</th>\n",
       "      <td>2019</td>\n",
       "      <td>2.39</td>\n",
       "      <td>83.63</td>\n",
       "    </tr>\n",
       "    <tr>\n",
       "      <th>60</th>\n",
       "      <td>2020</td>\n",
       "      <td>2.39</td>\n",
       "      <td>98.49</td>\n",
       "    </tr>\n",
       "    <tr>\n",
       "      <th>61</th>\n",
       "      <td>2021</td>\n",
       "      <td>3.93</td>\n",
       "      <td>106.43</td>\n",
       "    </tr>\n",
       "  </tbody>\n",
       "</table>\n",
       "<p>62 rows × 3 columns</p>\n",
       "</div>"
      ],
      "text/plain": [
       "    Year  Inflation Rate   Debt\n",
       "0   1960            4.15   0.00\n",
       "1   1961            1.60   0.00\n",
       "2   1962            5.80   0.00\n",
       "3   1963            5.63   0.00\n",
       "4   1964            8.18   0.00\n",
       "..   ...             ...    ...\n",
       "57  2017            2.85  73.11\n",
       "58  2018            5.31  78.97\n",
       "59  2019            2.39  83.63\n",
       "60  2020            2.39  98.49\n",
       "61  2021            3.93 106.43\n",
       "\n",
       "[62 rows x 3 columns]"
      ]
     },
     "execution_count": 14,
     "metadata": {},
     "output_type": "execute_result"
    }
   ],
   "source": [
    "def format_currency(x):\n",
    "    if x >= 1e9:\n",
    "        return x*1e-9\n",
    "    elif x >= 1e6:\n",
    "        return x*1e-6\n",
    "    elif x >= 1e3:\n",
    "        return x*1e-3\n",
    "    else:\n",
    "        return x\n",
    "\n",
    "df_inflation['Debt'] = df_inflation['Debt'].apply(format_currency)\n",
    "df_inflation.head(70)"
   ]
  },
  {
   "cell_type": "code",
   "execution_count": 15,
   "id": "abc1faab",
   "metadata": {},
   "outputs": [
    {
     "data": {
      "text/plain": [
       "<BarContainer object of 62 artists>"
      ]
     },
     "execution_count": 15,
     "metadata": {},
     "output_type": "execute_result"
    },
    {
     "data": {
      "image/png": "[encoded data removed]",
      "text/plain": [
       "<Figure size 640x480 with 1 Axes>"
      ]
     },
     "metadata": {},
     "output_type": "display_data"
    }
   ],
   "source": [
    "plt.bar(df_inflation['Year'], df_inflation['Inflation Rate'])"
   ]
  },
  {
   "cell_type": "code",
   "execution_count": 16,
   "id": "c90c9d01",
   "metadata": {},
   "outputs": [
    {
     "data": {
      "image/png": "[encoded data removed]",
      "text/plain": [
       "<Figure size 1000x1000 with 1 Axes>"
      ]
     },
     "metadata": {},
     "output_type": "display_data"
    }
   ],
   "source": [
    "plt.figure(figsize=(10, 10))\n",
    "plt.bar(df_inflation['Year'], df_inflation['Debt'])\n",
    "plt.ylabel('Billions (in USD)')\n",
    "plt.xlabel('Year')\n",
    "\n",
    "# Specify yticks\n",
    "yticks = np.linspace(start=min(df_inflation['Debt']), stop=max(df_inflation['Debt']), num=10)\n",
    "plt.yticks(yticks)\n",
    "\n",
    "plt.show()"
   ]
  },
  {
   "cell_type": "code",
   "execution_count": 17,
   "id": "dab3344b",
   "metadata": {},
   "outputs": [
    {
     "data": {
      "text/plain": [
       "<Axes: xlabel='Inflation Rate', ylabel='Count'>"
      ]
     },
     "execution_count": 17,
     "metadata": {},
     "output_type": "execute_result"
    },
    {
     "data": {
      "image/png": "[encoded data removed]",
      "text/plain": [
       "<Figure size 640x480 with 1 Axes>"
      ]
     },
     "metadata": {},
     "output_type": "display_data"
    }
   ],
   "source": [
    "sns.histplot(df_inflation['Inflation Rate'], kde=True)"
   ]
  },
  {
   "cell_type": "code",
   "execution_count": 18,
   "id": "7926d767",
   "metadata": {},
   "outputs": [
    {
     "data": {
      "text/plain": [
       "<Axes: xlabel='Debt', ylabel='Count'>"
      ]
     },
     "execution_count": 18,
     "metadata": {},
     "output_type": "execute_result"
    },
    {
     "data": {
      "image/png": "[encoded data removed]",
      "text/plain": [
       "<Figure size 640x480 with 1 Axes>"
      ]
     },
     "metadata": {},
     "output_type": "display_data"
    }
   ],
   "source": [
    "sns.histplot(df_inflation['Debt'], kde=True)"
   ]
  },
  {
   "cell_type": "code",
   "execution_count": 19,
   "id": "40227510",
   "metadata": {},
   "outputs": [
    {
     "data": {
      "text/html": [
       "<div>\n",
       "<style scoped>\n",
       "    .dataframe tbody tr th:only-of-type {\n",
       "        vertical-align: middle;\n",
       "    }\n",
       "\n",
       "    .dataframe tbody tr th {\n",
       "        vertical-align: top;\n",
       "    }\n",
       "\n",
       "    .dataframe thead th {\n",
       "        text-align: right;\n",
       "    }\n",
       "</style>\n",
       "<table border=\"1\" class=\"dataframe\">\n",
       "  <thead>\n",
       "    <tr style=\"text-align: right;\">\n",
       "      <th></th>\n",
       "      <th>Year</th>\n",
       "      <th>Inflation Rate</th>\n",
       "      <th>Debt</th>\n",
       "      <th>President</th>\n",
       "    </tr>\n",
       "  </thead>\n",
       "  <tbody>\n",
       "    <tr>\n",
       "      <th>0</th>\n",
       "      <td>1960</td>\n",
       "      <td>4.15</td>\n",
       "      <td>0.00</td>\n",
       "      <td>C. Garcia</td>\n",
       "    </tr>\n",
       "    <tr>\n",
       "      <th>1</th>\n",
       "      <td>1961</td>\n",
       "      <td>1.60</td>\n",
       "      <td>0.00</td>\n",
       "      <td>D. Macapagal</td>\n",
       "    </tr>\n",
       "    <tr>\n",
       "      <th>2</th>\n",
       "      <td>1962</td>\n",
       "      <td>5.80</td>\n",
       "      <td>0.00</td>\n",
       "      <td>D. Macapagal</td>\n",
       "    </tr>\n",
       "    <tr>\n",
       "      <th>3</th>\n",
       "      <td>1963</td>\n",
       "      <td>5.63</td>\n",
       "      <td>0.00</td>\n",
       "      <td>D. Macapagal</td>\n",
       "    </tr>\n",
       "    <tr>\n",
       "      <th>4</th>\n",
       "      <td>1964</td>\n",
       "      <td>8.18</td>\n",
       "      <td>0.00</td>\n",
       "      <td>D. Macapagal</td>\n",
       "    </tr>\n",
       "  </tbody>\n",
       "</table>\n",
       "</div>"
      ],
      "text/plain": [
       "   Year  Inflation Rate  Debt     President\n",
       "0  1960            4.15  0.00     C. Garcia\n",
       "1  1961            1.60  0.00  D. Macapagal\n",
       "2  1962            5.80  0.00  D. Macapagal\n",
       "3  1963            5.63  0.00  D. Macapagal\n",
       "4  1964            8.18  0.00  D. Macapagal"
      ]
     },
     "execution_count": 19,
     "metadata": {},
     "output_type": "execute_result"
    }
   ],
   "source": [
    "# dictionary of presidents and their years in office\n",
    "pres_dict = {\n",
    "    'C. Garcia': [1960],\n",
    "    'D. Macapagal': list(range(1961, 1965)),\n",
    "    'F. Marcos': list(range(1965, 1986)),\n",
    "    'C. Aquino': list(range(1986, 1992)),\n",
    "    'F. Ramos': list(range(1992, 1998)),\n",
    "    'J. Estrada': list(range(1998, 2001)),\n",
    "    'G. Arroyo': list(range(2001, 2010)),\n",
    "    'B. Aquino': list(range(2010, 2016)),\n",
    "    'R. Duterte': list(range(2016, 2022)),\n",
    "    'B. Marcos': [2021]\n",
    "}\n",
    "\n",
    "def get_president(year):\n",
    "    for president, years in pres_dict.items():\n",
    "        if year in years:\n",
    "            return president\n",
    "    return None\n",
    "\n",
    "df_inflation['President'] = df_inflation['Year'].apply(get_president)\n",
    "df_inflation.head()"
   ]
  },
  {
   "cell_type": "code",
   "execution_count": 20,
   "id": "952cc181",
   "metadata": {},
   "outputs": [
    {
     "data": {
      "image/png": "[encoded data removed]",
      "text/plain": [
       "<Figure size 640x480 with 1 Axes>"
      ]
     },
     "metadata": {},
     "output_type": "display_data"
    }
   ],
   "source": [
    "mean_inflation = df_inflation.groupby('President')['Inflation Rate'].mean().sort_values(ascending=False)\n",
    "mean_inflation.plot(kind='bar')\n",
    "mean_inflation.head()\n",
    "\n",
    "plt.title('Mean Inflation Rate by President (Sorted by Highest)')\n",
    "plt.xlabel('President')\n",
    "plt.ylabel('Mean Inflation Rate')\n",
    "\n",
    "# Add values to each bar\n",
    "for i, value in enumerate(mean_inflation):\n",
    "    plt.text(i, value, str(round(value, 2)), ha='center', va='bottom')\n",
    "\n",
    "plt.show()\n"
   ]
  },
  {
   "cell_type": "code",
   "execution_count": 22,
   "id": "f4f471a8",
   "metadata": {},
   "outputs": [
    {
     "data": {
      "image/png": "[encoded data removed]",
      "text/plain": [
       "<Figure size 640x480 with 1 Axes>"
      ]
     },
     "metadata": {},
     "output_type": "display_data"
    }
   ],
   "source": [
    "debt_per_president = df_inflation.groupby('President')['Debt'].sum().sort_values(ascending=False)\n",
    "debt_per_president.plot(kind='bar')\n",
    "\n",
    "plt.title('Total Debt per President')\n",
    "plt.xlabel('President')\n",
    "plt.ylabel('Debt (in billions USD)')\n",
    "\n",
    "# Add values to each bar\n",
    "for i, value in enumerate(debt_per_president):\n",
    "    plt.text(i, value, str(round(value, 2)), ha='center', va='bottom')\n",
    "\n",
    "plt.show()\n",
    "\n"
   ]
  },
  {
   "cell_type": "code",
   "execution_count": 23,
   "id": "eccc848e",
   "metadata": {},
   "outputs": [
    {
     "name": "stdout",
     "output_type": "stream",
     "text": [
      "Hello World\n"
     ]
    }
   ],
   "source": [
    "print('Hello World')"
   ]
  }
 ],
 "metadata": {
  "kernelspec": {
   "display_name": "Python 3",
   "language": "python",
   "name": "python3"
  },
  "language_info": {
   "codemirror_mode": {
    "name": "ipython",
    "version": 3
   },
   "file_extension": ".py",
   "mimetype": "text/x-python",
   "name": "python",
   "nbconvert_exporter": "python",
   "pygments_lexer": "ipython3",
   "version": "3.11.5"
  }
 },
 "nbformat": 4,
 "nbformat_minor": 5
}
